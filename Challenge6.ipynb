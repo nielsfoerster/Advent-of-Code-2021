{
 "cells": [
  {
   "cell_type": "code",
   "execution_count": 2,
   "id": "546a7b4b-1ec0-4170-92e9-56ceb6653239",
   "metadata": {},
   "outputs": [],
   "source": [
    "import pandas as pd\n",
    "import numpy as np"
   ]
  },
  {
   "cell_type": "code",
   "execution_count": 38,
   "id": "bd746292-3f03-4e13-b43e-06ce0c53d89b",
   "metadata": {},
   "outputs": [],
   "source": [
    "data=pd.read_csv('data6.txt',header=None).T\n",
    "data=np.reshape(np.array(data),[300])\n",
    "#data\n"
   ]
  },
  {
   "cell_type": "code",
   "execution_count": 40,
   "id": "1f9438e2-0273-4074-a2ee-3e79f0aee26f",
   "metadata": {},
   "outputs": [],
   "source": [
    "with open(\"data6.txt\", \"r\") as file:\n",
    "    data = file.read()\n",
    "EMPTY_SCHOOL_DICT = {0:0, 1:0, 2:0, 3:0, 4:0, 5:0, 6:0, 7:0, 8:0}\n",
    "\n",
    "def get_lanternfish_school(input_data):\n",
    "    \"\"\"extract initial fish school state\n",
    "    :input data (str): plain text read from txt file\n",
    "    :returns dict{int:int}: initial state of fish school, count by internal timer\"\"\"\n",
    "    input_data = input_data.replace('\\n', '')\n",
    "    numbers = input_data.strip().split(\",\")\n",
    "    for i in range(len(numbers)):\n",
    "        numbers[i] = int(numbers[i])\n",
    "    school_dict = EMPTY_SCHOOL_DICT.copy()\n",
    "    for n in numbers:\n",
    "        school_dict[n] += 1\n",
    "    return school_dict"
   ]
  },
  {
   "cell_type": "code",
   "execution_count": 45,
   "id": "fab69ca8-8e83-4dee-ae85-1afada74ca57",
   "metadata": {},
   "outputs": [],
   "source": [
    "school_dict=get_lanternfish_school(data)"
   ]
  },
  {
   "cell_type": "code",
   "execution_count": 46,
   "id": "4883ee8a-9a91-4f91-951b-27039ca5b504",
   "metadata": {},
   "outputs": [
    {
     "data": {
      "text/plain": [
       "{0: 0, 1: 112, 2: 60, 3: 42, 4: 50, 5: 36, 6: 0, 7: 0, 8: 0}"
      ]
     },
     "execution_count": 46,
     "metadata": {},
     "output_type": "execute_result"
    }
   ],
   "source": [
    "school_dict"
   ]
  },
  {
   "cell_type": "code",
   "execution_count": 47,
   "id": "280633ff-dc5e-488d-8d63-d8b74a08bb9e",
   "metadata": {},
   "outputs": [
    {
     "name": "stdout",
     "output_type": "stream",
     "text": [
      "1644874076764\n"
     ]
    }
   ],
   "source": [
    "for i in range(1,256+1):\n",
    "    stage_dict=EMPTY_SCHOOL_DICT.copy()\n",
    "    for j in stage_dict.keys():\n",
    "        if j==8:\n",
    "            stage_dict[j]=school_dict[0]\n",
    "        elif j==6:\n",
    "            stage_dict[j]=school_dict[7]+school_dict[0]\n",
    "        else:\n",
    "            stage_dict[j]=school_dict[j+1]\n",
    "    school_dict=stage_dict  \n",
    "count=0\n",
    "for j in school_dict.keys():\n",
    "    count+=school_dict[j]\n",
    "print(count)"
   ]
  },
  {
   "cell_type": "code",
   "execution_count": 36,
   "id": "ccca35a9-d804-40b3-af06-8e96c177c29a",
   "metadata": {},
   "outputs": [
    {
     "name": "stdout",
     "output_type": "stream",
     "text": [
      "Round 0, len: 300\n",
      "Round 1, len: 412\n",
      "Round 2, len: 472\n",
      "Round 3, len: 514\n",
      "Round 4, len: 564\n",
      "Round 5, len: 600\n",
      "Round 6, len: 600\n",
      "Round 7, len: 712\n",
      "Round 8, len: 772\n",
      "Round 9, len: 926\n",
      "Round 10, len: 1036\n",
      "Round 11, len: 1114\n",
      "Round 12, len: 1164\n",
      "Round 13, len: 1312\n",
      "Round 14, len: 1372\n",
      "Round 15, len: 1638\n",
      "Round 16, len: 1808\n",
      "Round 17, len: 2040\n",
      "Round 18, len: 2200\n",
      "Round 19, len: 2426\n",
      "Round 20, len: 2536\n",
      "Round 21, len: 2950\n",
      "Round 22, len: 3180\n",
      "Round 23, len: 3678\n",
      "Round 24, len: 4008\n",
      "Round 25, len: 4466\n",
      "Round 26, len: 4736\n",
      "Round 27, len: 5376\n",
      "Round 28, len: 5716\n",
      "Round 29, len: 6628\n",
      "Round 30, len: 7188\n",
      "Round 31, len: 8144\n",
      "Round 32, len: 8744\n",
      "Round 33, len: 9842\n",
      "Round 34, len: 10452\n",
      "Round 35, len: 12004\n",
      "Round 36, len: 12904\n",
      "Round 37, len: 14772\n",
      "Round 38, len: 15932\n",
      "Round 39, len: 17986\n",
      "Round 40, len: 19196\n",
      "Round 41, len: 21846\n",
      "Round 42, len: 23356\n",
      "Round 43, len: 26776\n",
      "Round 44, len: 28836\n",
      "Round 45, len: 32758\n",
      "Round 46, len: 35128\n",
      "Round 47, len: 39832\n",
      "Round 48, len: 42552\n",
      "Round 49, len: 48622\n",
      "Round 50, len: 52192\n",
      "Round 51, len: 59534\n",
      "Round 52, len: 63964\n",
      "Round 53, len: 72590\n",
      "Round 54, len: 77680\n",
      "Round 55, len: 88454\n",
      "Round 56, len: 94744\n",
      "Round 57, len: 108156\n",
      "Round 58, len: 116156\n",
      "Round 59, len: 132124\n",
      "Round 60, len: 141644\n",
      "Round 61, len: 161044\n",
      "Round 62, len: 172424\n",
      "Round 63, len: 196610\n",
      "Round 64, len: 210900\n",
      "Round 65, len: 240280\n",
      "Round 66, len: 257800\n",
      "Round 67, len: 293168\n",
      "Round 68, len: 314068\n",
      "Round 69, len: 357654\n",
      "Round 70, len: 383324\n",
      "Round 71, len: 436890\n",
      "Round 72, len: 468700\n",
      "Round 73, len: 533448\n",
      "Round 74, len: 571868\n",
      "Round 75, len: 650822\n",
      "Round 76, len: 697392\n",
      "Round 77, len: 794544\n",
      "Round 78, len: 852024\n",
      "Round 79, len: 970338\n"
     ]
    }
   ],
   "source": [
    "for i in range(0,80):\n",
    "    growth=data[data[0]==0].shape[0]\n",
    "    if growth!=0:\n",
    "        data[data[0]==0]=6\n",
    "        data=data.append([8]*growth)    \n",
    "    if data[data[0]==1].shape[0]!=0:\n",
    "        data[data[0]==1]=0\n",
    "    if data[data[0]==2].shape[0]!=0:\n",
    "        data[data[0]==2]=1\n",
    "    if data[data[0]==3].shape[0]!=0:\n",
    "        data[data[0]==3]=2\n",
    "    if data[data[0]==4].shape[0]!=0:\n",
    "        data[data[0]==4]=3\n",
    "    if data[data[0]==5].shape[0]!=0:\n",
    "        data[data[0]==5]=4\n",
    "    if data[data[0]==6].shape[0]!=0:\n",
    "        data[data[0]==6]=5\n",
    "    if data[data[0]==7].shape[0]!=0:\n",
    "        data[data[0]==7]=6\n",
    "    if data[data[0]==8].shape[0]!=0:\n",
    "        data[data[0]==8]=7\n",
    "    print(f'Round {i}, len:', len(data))"
   ]
  },
  {
   "cell_type": "code",
   "execution_count": 39,
   "id": "44fd3681-020e-492d-977e-c1cb71ebae88",
   "metadata": {},
   "outputs": [
    {
     "name": "stdout",
     "output_type": "stream",
     "text": [
      "Round 0, len: 300\n",
      "Round 1, len: 412\n",
      "Round 2, len: 472\n",
      "Round 3, len: 514\n",
      "Round 4, len: 564\n",
      "Round 5, len: 600\n",
      "Round 6, len: 600\n",
      "Round 7, len: 600\n",
      "Round 8, len: 712\n",
      "Round 9, len: 772\n",
      "Round 10, len: 926\n",
      "Round 11, len: 1036\n",
      "Round 12, len: 1114\n",
      "Round 13, len: 1164\n",
      "Round 14, len: 1200\n",
      "Round 15, len: 1312\n",
      "Round 16, len: 1372\n",
      "Round 17, len: 1638\n",
      "Round 18, len: 1808\n",
      "Round 19, len: 2040\n",
      "Round 20, len: 2200\n",
      "Round 21, len: 2314\n",
      "Round 22, len: 2476\n",
      "Round 23, len: 2572\n",
      "Round 24, len: 2950\n",
      "Round 25, len: 3180\n",
      "Round 26, len: 3678\n",
      "Round 27, len: 4008\n",
      "Round 28, len: 4354\n",
      "Round 29, len: 4676\n",
      "Round 30, len: 4886\n",
      "Round 31, len: 5426\n",
      "Round 32, len: 5752\n",
      "Round 33, len: 6628\n",
      "Round 34, len: 7188\n",
      "Round 35, len: 8032\n",
      "Round 36, len: 8684\n",
      "Round 37, len: 9240\n",
      "Round 38, len: 10102\n",
      "Round 39, len: 10638\n",
      "Round 40, len: 12054\n",
      "Round 41, len: 12940\n",
      "Round 42, len: 14660\n",
      "Round 43, len: 15872\n",
      "Round 44, len: 17272\n",
      "Round 45, len: 18786\n",
      "Round 46, len: 19878\n",
      "Round 47, len: 22156\n",
      "Round 48, len: 23578\n",
      "Round 49, len: 26714\n",
      "Round 50, len: 28812\n",
      "Round 51, len: 31932\n",
      "Round 52, len: 34658\n",
      "Round 53, len: 37150\n",
      "Round 54, len: 40942\n",
      "Round 55, len: 43456\n",
      "Round 56, len: 48870\n",
      "Round 57, len: 52390\n",
      "Round 58, len: 58646\n",
      "Round 59, len: 63470\n",
      "Round 60, len: 69082\n",
      "Round 61, len: 75600\n",
      "Round 62, len: 80606\n",
      "Round 63, len: 89812\n",
      "Round 64, len: 95846\n",
      "Round 65, len: 107516\n",
      "Round 66, len: 115860\n",
      "Round 67, len: 127728\n",
      "Round 68, len: 139070\n",
      "Round 69, len: 149688\n",
      "Round 70, len: 165412\n",
      "Round 71, len: 176452\n",
      "Round 72, len: 197328\n",
      "Round 73, len: 211706\n",
      "Round 74, len: 235244\n",
      "Round 75, len: 254930\n",
      "Round 76, len: 277416\n",
      "Round 77, len: 304482\n",
      "Round 78, len: 326140\n",
      "Round 79, len: 362740\n"
     ]
    }
   ],
   "source": [
    "for i in range(0,80):        \n",
    "    for j in range(0,len(data)):\n",
    "        data[j]-=1\n",
    "        if data[j]==-1:\n",
    "            #print(j)\n",
    "            data[j]=6\n",
    "            data=np.append(data,8)\n",
    "    #print (data)\n",
    "    print(f'Round {i}, len:', len(data))"
   ]
  },
  {
   "cell_type": "code",
   "execution_count": null,
   "id": "59171190-8837-459e-ab45-4e72b28d8007",
   "metadata": {},
   "outputs": [],
   "source": []
  },
  {
   "cell_type": "code",
   "execution_count": null,
   "id": "703d2e5c-8ac6-419d-b4f9-db80e1f2439c",
   "metadata": {},
   "outputs": [],
   "source": []
  },
  {
   "cell_type": "code",
   "execution_count": null,
   "id": "61e6143a-9776-4218-950f-258c8eb9ac8a",
   "metadata": {},
   "outputs": [],
   "source": []
  }
 ],
 "metadata": {
  "kernelspec": {
   "display_name": "Python 3",
   "language": "python",
   "name": "python3"
  },
  "language_info": {
   "codemirror_mode": {
    "name": "ipython",
    "version": 3
   },
   "file_extension": ".py",
   "mimetype": "text/x-python",
   "name": "python",
   "nbconvert_exporter": "python",
   "pygments_lexer": "ipython3",
   "version": "3.8.8"
  }
 },
 "nbformat": 4,
 "nbformat_minor": 5
}
