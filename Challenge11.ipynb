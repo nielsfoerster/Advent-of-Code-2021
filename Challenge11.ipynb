{
 "cells": [
  {
   "cell_type": "code",
   "execution_count": 1,
   "id": "2115ec2c-673b-46ef-9345-7e0d8f589f87",
   "metadata": {},
   "outputs": [],
   "source": [
    "import pandas as pd\n",
    "import numpy as np\n",
    "import matplotlib.pyplot as plt\n",
    "%matplotlib inline"
   ]
  },
  {
   "cell_type": "code",
   "execution_count": 2,
   "id": "025cdd82-3843-48a1-b0cb-b3b176783d84",
   "metadata": {},
   "outputs": [],
   "source": [
    "with open(\"data11.txt\", \"r\") as file:\n",
    "    data = str(file.read())"
   ]
  },
  {
   "cell_type": "code",
   "execution_count": 3,
   "id": "125e985a-c5a5-4057-aff1-3f618e537757",
   "metadata": {},
   "outputs": [],
   "source": [
    "input_data=data.split('\\n')"
   ]
  },
  {
   "cell_type": "code",
   "execution_count": 4,
   "id": "1d08ff6f-5b46-4815-b024-ad6ea69de431",
   "metadata": {},
   "outputs": [],
   "source": [
    "def splitting(words):\n",
    "    return [int(char) for char in words]"
   ]
  },
  {
   "cell_type": "code",
   "execution_count": 5,
   "id": "a06bb44a-0175-4fa6-bfee-1b7c5286f1df",
   "metadata": {},
   "outputs": [],
   "source": [
    "data=[]\n",
    "for i in input_data:\n",
    "    a=splitting(i)\n",
    "    data.append(a)"
   ]
  },
  {
   "cell_type": "code",
   "execution_count": 6,
   "id": "d5c81ff5-391c-4ea1-8704-c7141b7ea797",
   "metadata": {},
   "outputs": [],
   "source": [
    "data=np.array(data)"
   ]
  },
  {
   "cell_type": "code",
   "execution_count": 7,
   "id": "e83fb067-7bb4-4a2a-85af-b0f6e055a09a",
   "metadata": {},
   "outputs": [
    {
     "data": {
      "text/plain": [
       "(10, 10)"
      ]
     },
     "execution_count": 7,
     "metadata": {},
     "output_type": "execute_result"
    }
   ],
   "source": [
    "data.shape"
   ]
  },
  {
   "cell_type": "code",
   "execution_count": 8,
   "id": "7658eba5-a723-4083-a0bb-504841e403b1",
   "metadata": {},
   "outputs": [
    {
     "data": {
      "text/plain": [
       "array([[5, 6, 5, 1, 3, 4, 1, 4, 5, 2],\n",
       "       [1, 3, 8, 1, 5, 4, 1, 2, 5, 2],\n",
       "       [1, 8, 7, 8, 4, 3, 5, 2, 2, 4],\n",
       "       [6, 8, 1, 4, 8, 3, 1, 5, 3, 5],\n",
       "       [3, 8, 8, 3, 5, 4, 7, 3, 8, 3],\n",
       "       [6, 4, 7, 3, 5, 4, 8, 4, 6, 4],\n",
       "       [1, 8, 8, 5, 8, 3, 3, 6, 5, 8],\n",
       "       [3, 7, 3, 2, 5, 8, 4, 7, 5, 2],\n",
       "       [1, 8, 8, 1, 5, 4, 6, 1, 2, 8],\n",
       "       [5, 1, 2, 1, 7, 1, 7, 7, 7, 6]])"
      ]
     },
     "execution_count": 8,
     "metadata": {},
     "output_type": "execute_result"
    }
   ],
   "source": [
    "data"
   ]
  },
  {
   "cell_type": "code",
   "execution_count": 169,
   "id": "9a76388d-2642-4e49-ba64-8e9c2920d3c7",
   "metadata": {},
   "outputs": [],
   "source": [
    "data_new=data+1"
   ]
  },
  {
   "cell_type": "code",
   "execution_count": 175,
   "id": "8a79d22c-5087-4a98-abef-8b0fd23328c2",
   "metadata": {},
   "outputs": [
    {
     "data": {
      "text/plain": [
       "array([[6, 7, 6, 2, 4, 5, 2, 5, 6, 3],\n",
       "       [2, 4, 9, 2, 6, 5, 2, 3, 6, 3],\n",
       "       [2, 9, 8, 9, 5, 4, 6, 3, 3, 5],\n",
       "       [7, 9, 2, 5, 9, 4, 2, 6, 4, 6],\n",
       "       [4, 9, 9, 4, 6, 5, 8, 4, 9, 4],\n",
       "       [7, 5, 8, 4, 6, 5, 9, 5, 7, 5],\n",
       "       [2, 9, 9, 6, 9, 4, 4, 7, 6, 9],\n",
       "       [4, 8, 4, 3, 6, 9, 5, 8, 6, 3],\n",
       "       [2, 9, 9, 2, 6, 5, 7, 2, 3, 9],\n",
       "       [6, 2, 3, 2, 8, 2, 8, 8, 8, 7]])"
      ]
     },
     "execution_count": 175,
     "metadata": {},
     "output_type": "execute_result"
    }
   ],
   "source": [
    "data_new"
   ]
  },
  {
   "cell_type": "code",
   "execution_count": 60,
   "id": "459a8690-9daa-49f6-aaa7-2b64e13a3c4c",
   "metadata": {},
   "outputs": [],
   "source": [
    "def flash(data):\n",
    "    flash_count=0\n",
    "    for row in range(0,len(data)):\n",
    "        for el in range(0,len(data)):\n",
    "            if data[row][el] ==0:\n",
    "                flash_count+=1\n",
    "    return flash_count"
   ]
  },
  {
   "cell_type": "code",
   "execution_count": 13,
   "id": "eb2ece21-4815-41fe-b403-4edfedab702d",
   "metadata": {},
   "outputs": [],
   "source": [
    "def step(data):\n",
    "    for row in range(0,len(data)):\n",
    "        for el in range(0,len(data)):\n",
    "            if data[row][el]==9:\n",
    "                data[row][el]=0\n",
    "            else:\n",
    "                data[row][el]+=1"
   ]
  },
  {
   "cell_type": "code",
   "execution_count": null,
   "id": "9da6828d-db3d-4349-848f-033e4218b6d2",
   "metadata": {},
   "outputs": [],
   "source": []
  },
  {
   "cell_type": "code",
   "execution_count": 170,
   "id": "244248ed-ab78-499a-be48-4f610808017a",
   "metadata": {},
   "outputs": [],
   "source": [
    "def flash_marker(data):\n",
    "    flash_marker=np.array(np.zeros(data.shape[0]*data.shape[1])).reshape([data.shape[0],data.shape[1]])\n",
    "    for row in range(0,len(data)):\n",
    "        for el in range(0,len(data)):\n",
    "            if data[row][el]==0:\n",
    "                flash_marker[row][el]+=1\n",
    "    return flash_marker"
   ]
  },
  {
   "cell_type": "code",
   "execution_count": 231,
   "id": "a3e0b7a6-5d3c-4e73-86bb-f091b173048f",
   "metadata": {},
   "outputs": [],
   "source": [
    "def propagate(data):\n",
    "    flash_marker=np.array(np.zeros(data.shape[0]*data.shape[1])).reshape([data.shape[0],data.shape[1]])\n",
    "    for row in range(0,len(data)):\n",
    "        for el in range(0,len(data)):\n",
    "            if data[row][el]==0 and flash_marker[row][el]!=1:\n",
    "                if inner_element(row,el,data):\n",
    "                    data[row-1][el]+=1\n",
    "                    data[row-1][el+1]+=1\n",
    "                    data[row][el+1]+=1\n",
    "                    data[row+1][el+1]+=1\n",
    "                    data[row+1][el]+=1\n",
    "                    data[row+1][el-1]+=1\n",
    "                    data[row][el-1]+=1\n",
    "                    data[row-1][el-1]+=1\n",
    "                elif left(row,el,data):\n",
    "                    if up(row,el,data):\n",
    "                        data[row][el+1]+=1\n",
    "                        data[row+1][el+1]+=1\n",
    "                        data[row+1][el]+=1\n",
    "                    elif down(row,el,data):\n",
    "                        data[row-1][el]+=1\n",
    "                        data[row-1][el+1]+=1\n",
    "                        data[row][el+1]+=1       \n",
    "                elif right(row,el,data):\n",
    "                    if up(row,el,data):\n",
    "                        data[row+1][el]+=1\n",
    "                        data[row+1][el-1]+=1\n",
    "                        data[row][el-1]+=1\n",
    "                    elif down(row,el,data):\n",
    "                        data[row][el-1]+=1\n",
    "                        data[row-1][el-1]+=1\n",
    "                        data[row-1][el]+=1  \n",
    "            flash_marker[row][el]+=1\n",
    "    return flash_marker"
   ]
  },
  {
   "cell_type": "code",
   "execution_count": 232,
   "id": "d7db3c19-7ecb-413c-91b5-62551ae96429",
   "metadata": {},
   "outputs": [],
   "source": [
    "test=np.array([[1,2,3,4,5,6],[4,5,6,7,8,9],[7,8,9,3,2,6],[7,8,9,4,1,7],[7,8,9,8,9,2],[7,8,9,4,6,8]])"
   ]
  },
  {
   "cell_type": "code",
   "execution_count": 233,
   "id": "6dfbe348-37c5-47de-8bfa-a146ab9c7f88",
   "metadata": {},
   "outputs": [],
   "source": [
    "step(test)"
   ]
  },
  {
   "cell_type": "code",
   "execution_count": 242,
   "id": "b0e6b587-63eb-4c7c-afce-f9bd0423c2ee",
   "metadata": {},
   "outputs": [
    {
     "data": {
      "text/plain": [
       "array([[1., 1., 1., 1., 1., 1.],\n",
       "       [1., 1., 1., 1., 1., 1.],\n",
       "       [1., 1., 1., 1., 1., 1.],\n",
       "       [1., 1., 1., 1., 1., 1.],\n",
       "       [1., 1., 1., 1., 1., 1.],\n",
       "       [1., 1., 1., 1., 1., 1.]])"
      ]
     },
     "execution_count": 242,
     "metadata": {},
     "output_type": "execute_result"
    }
   ],
   "source": [
    "propagate(test)    "
   ]
  },
  {
   "cell_type": "code",
   "execution_count": 230,
   "id": "07da3625-d2c0-4ba5-9aa3-01651f2e1329",
   "metadata": {},
   "outputs": [
    {
     "data": {
      "text/plain": [
       "<function __main__.flash_marker(data)>"
      ]
     },
     "execution_count": 230,
     "metadata": {},
     "output_type": "execute_result"
    }
   ],
   "source": []
  },
  {
   "cell_type": "code",
   "execution_count": 216,
   "id": "28c34762-3a7c-444a-bee6-c2afc84329fa",
   "metadata": {},
   "outputs": [
    {
     "data": {
      "text/plain": [
       "4"
      ]
     },
     "execution_count": 216,
     "metadata": {},
     "output_type": "execute_result"
    }
   ],
   "source": [
    "flash(test)"
   ]
  },
  {
   "cell_type": "code",
   "execution_count": 243,
   "id": "c5363dff-810b-4382-abcf-9cdcdeeb0a7d",
   "metadata": {},
   "outputs": [
    {
     "data": {
      "text/plain": [
       "array([[ 2,  3,  4,  5,  6,  7],\n",
       "       [ 5, 12, 13, 14,  9,  0],\n",
       "       [ 8, 15,  0, 10,  3,  7],\n",
       "       [ 8, 21, 12, 23,  8, 14],\n",
       "       [ 8, 15,  0, 21,  0,  9],\n",
       "       [ 8, 15,  6, 17, 13, 15]])"
      ]
     },
     "execution_count": 243,
     "metadata": {},
     "output_type": "execute_result"
    }
   ],
   "source": [
    "test"
   ]
  },
  {
   "cell_type": "code",
   "execution_count": 67,
   "id": "7f4e72d0-c35e-4e3f-84e3-0996f006b365",
   "metadata": {},
   "outputs": [],
   "source": [
    "def inner_element(row,el,data):\n",
    "    if row > 0 and row < (data.shape[0]-1) and el > 0 and el < (data.shape[1]-1):\n",
    "        return True\n",
    "    else:\n",
    "        return False"
   ]
  },
  {
   "cell_type": "code",
   "execution_count": 68,
   "id": "5595643d-1559-45c2-be79-ca7a2adba641",
   "metadata": {},
   "outputs": [],
   "source": [
    "def left(row,el,data):\n",
    "    if el == 0:\n",
    "        return True\n",
    "    else:\n",
    "        return False"
   ]
  },
  {
   "cell_type": "code",
   "execution_count": 69,
   "id": "6417dbf4-eafb-4ff4-b18d-feb97b22d52f",
   "metadata": {},
   "outputs": [],
   "source": [
    "def right(row,el,data):\n",
    "    if el ==(data.shape[1]-1):\n",
    "        return True\n",
    "    else:\n",
    "        return False"
   ]
  },
  {
   "cell_type": "code",
   "execution_count": 70,
   "id": "56dda8be-05d4-4094-aa48-a3341af6dbfd",
   "metadata": {},
   "outputs": [],
   "source": [
    "def up(row,el,data):\n",
    "    if row == 0:\n",
    "        return True\n",
    "    else:\n",
    "        return False"
   ]
  },
  {
   "cell_type": "code",
   "execution_count": 71,
   "id": "d40cb962-bf78-42e4-a4e0-e9d48ffe4088",
   "metadata": {},
   "outputs": [],
   "source": [
    "def down(row,el,data):\n",
    "    if row ==(data.shape[0]-1):\n",
    "        return True\n",
    "    else:\n",
    "        return False"
   ]
  },
  {
   "cell_type": "code",
   "execution_count": 80,
   "id": "ba0c77d1-3ac9-4d44-bea5-aaccd11d98f3",
   "metadata": {},
   "outputs": [
    {
     "data": {
      "text/plain": [
       "True"
      ]
     },
     "execution_count": 80,
     "metadata": {},
     "output_type": "execute_result"
    }
   ],
   "source": [
    "down(5,5,test)"
   ]
  },
  {
   "cell_type": "code",
   "execution_count": null,
   "id": "3c711c52-c3b5-4415-9f4b-fd712d6f40fc",
   "metadata": {},
   "outputs": [],
   "source": []
  }
 ],
 "metadata": {
  "kernelspec": {
   "display_name": "Python 3",
   "language": "python",
   "name": "python3"
  },
  "language_info": {
   "codemirror_mode": {
    "name": "ipython",
    "version": 3
   },
   "file_extension": ".py",
   "mimetype": "text/x-python",
   "name": "python",
   "nbconvert_exporter": "python",
   "pygments_lexer": "ipython3",
   "version": "3.8.8"
  }
 },
 "nbformat": 4,
 "nbformat_minor": 5
}
