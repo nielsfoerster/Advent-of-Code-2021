{
 "cells": [
  {
   "cell_type": "code",
   "execution_count": 1,
   "id": "228c473b-6efa-4d51-8b0d-6858ac4dc3a3",
   "metadata": {},
   "outputs": [],
   "source": [
    "import pandas as pd\n",
    "import numpy as np\n",
    "import matplotlib.pyplot as plt\n",
    "%matplotlib inline"
   ]
  },
  {
   "cell_type": "code",
   "execution_count": 362,
   "id": "a2c6def8-0c39-4658-ba26-55a7169b60e7",
   "metadata": {},
   "outputs": [],
   "source": [
    "with open(\"data13.txt\", \"r\") as file:\n",
    "    data = str(file.read())"
   ]
  },
  {
   "cell_type": "code",
   "execution_count": 363,
   "id": "ece269e7-6fb6-48f1-8d07-f228db9f5c0b",
   "metadata": {},
   "outputs": [],
   "source": [
    "#coordinates\n",
    "data=data.split('\\n')\n",
    "foldings=data[-12::]\n",
    "coordinates=data[:len(data)-13]\n",
    "coordinates=[a.split(',') for a in coordinates]\n",
    "coordinates=np.array(coordinates)\n",
    "coordinates=[int(a) for a in coordinates.flatten()]\n",
    "coordinates=np.array(coordinates)\n",
    "coordinates=pd.DataFrame(coordinates.reshape(int(len(coordinates)/2),2))\n",
    "max_x=coordinates[0].max()\n",
    "max_y=coordinates[1].max()\n",
    "max_y,max_x\n",
    "matrix=np.array(np.zeros([max_y+1,max_x+1]))\n",
    "for (x,y) in zip(coordinates[1],coordinates[0]):\n",
    "    matrix[x][y]=1"
   ]
  },
  {
   "cell_type": "code",
   "execution_count": 370,
   "id": "f359f477-6aa1-4b76-8599-8f75c78bc976",
   "metadata": {},
   "outputs": [],
   "source": [
    "y1=447"
   ]
  },
  {
   "cell_type": "code",
   "execution_count": 371,
   "id": "8ce9e2b9-f42f-4e43-8f3c-d8cc03726e8d",
   "metadata": {},
   "outputs": [],
   "source": [
    "#y1=655\n",
    "x1=447\n",
    "#y2=327\n",
    "x2=223\n",
    "#y3=163\n",
    "x3=111\n",
    "#y4=81\n",
    "x4=55\n",
    "#y5=40\n",
    "x5=27\n",
    "x6=13\n",
    "x7=6"
   ]
  },
  {
   "cell_type": "code",
   "execution_count": 372,
   "id": "5e863808-4e07-4c89-969d-65479861a6d6",
   "metadata": {},
   "outputs": [
    {
     "data": {
      "text/plain": [
       "894"
      ]
     },
     "execution_count": 372,
     "metadata": {},
     "output_type": "execute_result"
    }
   ],
   "source": [
    "y1*2"
   ]
  },
  {
   "cell_type": "code",
   "execution_count": 366,
   "id": "7d19dea2-ee1f-4aec-b06d-c1d1ad7b1d6e",
   "metadata": {},
   "outputs": [
    {
     "data": {
      "text/plain": [
       "(1311, 893)"
      ]
     },
     "execution_count": 366,
     "metadata": {},
     "output_type": "execute_result"
    }
   ],
   "source": [
    "matrix=matrix.T\n",
    "matrix.shape"
   ]
  },
  {
   "cell_type": "code",
   "execution_count": 367,
   "id": "739625d2-b5ca-464c-bf82-b83ced027be2",
   "metadata": {},
   "outputs": [],
   "source": [
    "upper_half=matrix[:y1]\n",
    "lower_half=matrix[y1+1:]"
   ]
  },
  {
   "cell_type": "code",
   "execution_count": 368,
   "id": "2d6c400a-6230-48aa-80fb-7ef4b6ab9d6b",
   "metadata": {},
   "outputs": [
    {
     "data": {
      "text/plain": [
       "((655, 893), (655, 893))"
      ]
     },
     "execution_count": 368,
     "metadata": {},
     "output_type": "execute_result"
    }
   ],
   "source": [
    "upper_half.shape,lower_half.shape"
   ]
  },
  {
   "cell_type": "code",
   "execution_count": 369,
   "id": "7487a679-75c7-46fc-a6ce-6340d2d9e77a",
   "metadata": {},
   "outputs": [
    {
     "data": {
      "text/plain": [
       "(621.0, (655, 893))"
      ]
     },
     "execution_count": 369,
     "metadata": {},
     "output_type": "execute_result"
    }
   ],
   "source": [
    "matrix=upper_half+np.flip(lower_half,axis=0)\n",
    "matrix=matrix.clip(0,1)\n",
    "matrix.sum(), matrix.shape"
   ]
  },
  {
   "cell_type": "code",
   "execution_count": null,
   "id": "d3a446b5-852d-4f08-b75c-8ac9a14983f3",
   "metadata": {},
   "outputs": [],
   "source": []
  },
  {
   "cell_type": "code",
   "execution_count": null,
   "id": "f620c08b-2671-4193-83cb-ce3e289ebde9",
   "metadata": {},
   "outputs": [],
   "source": []
  },
  {
   "cell_type": "code",
   "execution_count": null,
   "id": "dd8104e9-7ea5-4698-8325-65d82899f016",
   "metadata": {},
   "outputs": [],
   "source": []
  },
  {
   "cell_type": "code",
   "execution_count": 244,
   "id": "b0495e80-fe6c-43a7-961c-a304bf6f2f88",
   "metadata": {},
   "outputs": [],
   "source": [
    "foldings=[a.split(' ') for a in foldings]"
   ]
  },
  {
   "cell_type": "code",
   "execution_count": 84,
   "id": "57e16c48-1832-4bc6-935a-fcf2b2447e45",
   "metadata": {},
   "outputs": [],
   "source": [
    "foldings_list=[]\n",
    "for i in range(0,len(foldings)):\n",
    "    a=foldings[i][2]\n",
    "    foldings_list.append(a)"
   ]
  },
  {
   "cell_type": "code",
   "execution_count": 85,
   "id": "779adbbc-67e8-4ddd-a1d9-2a0bb0f2d570",
   "metadata": {},
   "outputs": [],
   "source": [
    "foldings_list=[a.split('=') for a in foldings_list]"
   ]
  },
  {
   "cell_type": "code",
   "execution_count": 86,
   "id": "f20ab5d7-9c0f-42d8-bc2d-8e243e177248",
   "metadata": {},
   "outputs": [
    {
     "data": {
      "text/plain": [
       "[['x', '655'],\n",
       " ['y', '447'],\n",
       " ['x', '327'],\n",
       " ['y', '223'],\n",
       " ['x', '163'],\n",
       " ['y', '111'],\n",
       " ['x', '81'],\n",
       " ['y', '55'],\n",
       " ['x', '40'],\n",
       " ['y', '27'],\n",
       " ['y', '13'],\n",
       " ['y', '6']]"
      ]
     },
     "execution_count": 86,
     "metadata": {},
     "output_type": "execute_result"
    }
   ],
   "source": [
    "foldings_list"
   ]
  },
  {
   "cell_type": "code",
   "execution_count": 315,
   "id": "848423b5-a09b-4307-bec1-071886ef07b1",
   "metadata": {},
   "outputs": [
    {
     "data": {
      "text/html": [
       "<div>\n",
       "<style scoped>\n",
       "    .dataframe tbody tr th:only-of-type {\n",
       "        vertical-align: middle;\n",
       "    }\n",
       "\n",
       "    .dataframe tbody tr th {\n",
       "        vertical-align: top;\n",
       "    }\n",
       "\n",
       "    .dataframe thead th {\n",
       "        text-align: right;\n",
       "    }\n",
       "</style>\n",
       "<table border=\"1\" class=\"dataframe\">\n",
       "  <thead>\n",
       "    <tr style=\"text-align: right;\">\n",
       "      <th></th>\n",
       "      <th>0</th>\n",
       "      <th>1</th>\n",
       "    </tr>\n",
       "  </thead>\n",
       "  <tbody>\n",
       "    <tr>\n",
       "      <th>0</th>\n",
       "      <td>323</td>\n",
       "      <td>511</td>\n",
       "    </tr>\n",
       "    <tr>\n",
       "      <th>1</th>\n",
       "      <td>1240</td>\n",
       "      <td>588</td>\n",
       "    </tr>\n",
       "    <tr>\n",
       "      <th>2</th>\n",
       "      <td>1210</td>\n",
       "      <td>140</td>\n",
       "    </tr>\n",
       "    <tr>\n",
       "      <th>3</th>\n",
       "      <td>641</td>\n",
       "      <td>365</td>\n",
       "    </tr>\n",
       "    <tr>\n",
       "      <th>4</th>\n",
       "      <td>23</td>\n",
       "      <td>232</td>\n",
       "    </tr>\n",
       "    <tr>\n",
       "      <th>...</th>\n",
       "      <td>...</td>\n",
       "      <td>...</td>\n",
       "    </tr>\n",
       "    <tr>\n",
       "      <th>727</th>\n",
       "      <td>142</td>\n",
       "      <td>156</td>\n",
       "    </tr>\n",
       "    <tr>\n",
       "      <th>728</th>\n",
       "      <td>137</td>\n",
       "      <td>323</td>\n",
       "    </tr>\n",
       "    <tr>\n",
       "      <th>729</th>\n",
       "      <td>72</td>\n",
       "      <td>861</td>\n",
       "    </tr>\n",
       "    <tr>\n",
       "      <th>730</th>\n",
       "      <td>87</td>\n",
       "      <td>829</td>\n",
       "    </tr>\n",
       "    <tr>\n",
       "      <th>731</th>\n",
       "      <td>900</td>\n",
       "      <td>338</td>\n",
       "    </tr>\n",
       "  </tbody>\n",
       "</table>\n",
       "<p>732 rows × 2 columns</p>\n",
       "</div>"
      ],
      "text/plain": [
       "        0    1\n",
       "0     323  511\n",
       "1    1240  588\n",
       "2    1210  140\n",
       "3     641  365\n",
       "4      23  232\n",
       "..    ...  ...\n",
       "727   142  156\n",
       "728   137  323\n",
       "729    72  861\n",
       "730    87  829\n",
       "731   900  338\n",
       "\n",
       "[732 rows x 2 columns]"
      ]
     },
     "execution_count": 315,
     "metadata": {},
     "output_type": "execute_result"
    }
   ],
   "source": [
    "coordinates"
   ]
  },
  {
   "cell_type": "code",
   "execution_count": null,
   "id": "2972b23d-0f1a-4362-a642-461e4583e464",
   "metadata": {},
   "outputs": [],
   "source": []
  }
 ],
 "metadata": {
  "kernelspec": {
   "display_name": "Python 3",
   "language": "python",
   "name": "python3"
  },
  "language_info": {
   "codemirror_mode": {
    "name": "ipython",
    "version": 3
   },
   "file_extension": ".py",
   "mimetype": "text/x-python",
   "name": "python",
   "nbconvert_exporter": "python",
   "pygments_lexer": "ipython3",
   "version": "3.8.8"
  }
 },
 "nbformat": 4,
 "nbformat_minor": 5
}
