{
 "cells": [
  {
   "cell_type": "code",
   "execution_count": 1,
   "id": "3cc3b953-e5eb-4276-82e0-40d752332edd",
   "metadata": {},
   "outputs": [],
   "source": [
    "import pandas as pd\n",
    "import numpy as np\n",
    "import matplotlib.pyplot as plt\n",
    "%matplotlib inline"
   ]
  },
  {
   "cell_type": "code",
   "execution_count": 95,
   "id": "a796d090-8245-4960-82ca-cc005a364866",
   "metadata": {},
   "outputs": [],
   "source": [
    "with open(\"data14.txt\", \"r\") as file:\n",
    "    data = str(file.read())\n",
    "data=data.split('\\n')"
   ]
  },
  {
   "cell_type": "code",
   "execution_count": 96,
   "id": "c7e01781-fea7-4981-8dc7-e23f62b83451",
   "metadata": {},
   "outputs": [],
   "source": [
    "polymer=data[0]\n",
    "rules=data[2:]\n",
    "rules=[a.split(' -> ') for a in rules]\n",
    "rules=dict(rules)"
   ]
  },
  {
   "cell_type": "code",
   "execution_count": 97,
   "id": "fc17b50f-ff9f-4de8-a19f-f0396a091aac",
   "metadata": {},
   "outputs": [],
   "source": [
    "polymer_new=polymer"
   ]
  },
  {
   "cell_type": "code",
   "execution_count": 67,
   "id": "33d0e61b-7e96-4de4-a9c2-7c9cd50cf1b0",
   "metadata": {},
   "outputs": [
    {
     "name": "stdout",
     "output_type": "stream",
     "text": [
      "0 C\n",
      "1 K\n",
      "2 F\n",
      "3 F\n",
      "4 S\n",
      "5 C\n",
      "6 F\n",
      "7 S\n",
      "8 C\n",
      "9 B\n",
      "10 C\n",
      "11 K\n",
      "12 B\n",
      "13 P\n",
      "14 B\n",
      "15 C\n",
      "16 S\n",
      "17 P\n",
      "18 K\n"
     ]
    }
   ],
   "source": [
    "for i in range(0,len(polymer)-1):\n",
    "    print(i,polymer[i])"
   ]
  },
  {
   "cell_type": "code",
   "execution_count": 98,
   "id": "4fe687c6-702b-4ad8-93f7-b4d83afd345f",
   "metadata": {},
   "outputs": [
    {
     "name": "stdout",
     "output_type": "stream",
     "text": [
      "39\n",
      "77\n",
      "153\n",
      "305\n",
      "609\n",
      "1217\n",
      "2433\n",
      "4865\n",
      "9729\n",
      "19457\n"
     ]
    }
   ],
   "source": [
    "for j in range(0,10):\n",
    "    for i in range(0,len(polymer)-1):\n",
    "        tup=polymer[i:i+2]\n",
    "        pol=rules[tup]\n",
    "        polymer_new=polymer_new[:1+i]+pol+polymer_new[1+i:]\n",
    "    polymer=polymer_new\n",
    "    print(len(polymer))"
   ]
  },
  {
   "cell_type": "code",
   "execution_count": 89,
   "id": "00e7020c-d269-4839-aa7e-7200774e8c29",
   "metadata": {},
   "outputs": [],
   "source": [
    "def count_letters(word, char):\n",
    "    count = 0\n",
    "    for c in word:\n",
    "        if char == c:\n",
    "            count += 1\n",
    "    return count"
   ]
  },
  {
   "cell_type": "code",
   "execution_count": 90,
   "id": "cc376dce-83e2-4c3b-aaae-26dbe2af0f40",
   "metadata": {},
   "outputs": [],
   "source": [
    "def freq_count(string, characs):\n",
    "    freqs=[]\n",
    "    for i in range(0,len(characs)):\n",
    "        a=count_letters(string,characs[i])\n",
    "        freqs.append(a)\n",
    "    return freqs"
   ]
  },
  {
   "cell_type": "code",
   "execution_count": 91,
   "id": "2ba2532f-9a20-4a72-83d7-21354a16f5a5",
   "metadata": {},
   "outputs": [],
   "source": [
    "pols=list(set(polymer))\n",
    "result=freq_count(polymer,pols)"
   ]
  },
  {
   "cell_type": "code",
   "execution_count": 99,
   "id": "cf9a68b8-bb2a-4e08-9d02-0969cff35854",
   "metadata": {},
   "outputs": [
    {
     "data": {
      "text/plain": [
       "2489"
      ]
     },
     "execution_count": 99,
     "metadata": {},
     "output_type": "execute_result"
    }
   ],
   "source": [
    "max(result)-min(result)"
   ]
  },
  {
   "cell_type": "code",
   "execution_count": 100,
   "id": "5be764b7-319e-49ba-b06d-dae29f4a94fc",
   "metadata": {},
   "outputs": [
    {
     "data": {
      "text/plain": [
       "[2054, 3312, 1659, 2505, 1306, 943, 823, 1839, 2151, 2865]"
      ]
     },
     "execution_count": 100,
     "metadata": {},
     "output_type": "execute_result"
    }
   ],
   "source": [
    "result"
   ]
  },
  {
   "cell_type": "code",
   "execution_count": 94,
   "id": "3bd2db9e-0474-49c3-a3ac-8c871d6e6bb1",
   "metadata": {},
   "outputs": [
    {
     "data": {
      "text/plain": [
       "19457"
      ]
     },
     "execution_count": 94,
     "metadata": {},
     "output_type": "execute_result"
    }
   ],
   "source": [
    "len(polymer)"
   ]
  },
  {
   "cell_type": "code",
   "execution_count": null,
   "id": "d03944d4-a825-4745-8260-13df1e13294e",
   "metadata": {},
   "outputs": [],
   "source": []
  },
  {
   "cell_type": "code",
   "execution_count": null,
   "id": "4a0f8aca-f491-4f4c-8b11-facd714d42d5",
   "metadata": {},
   "outputs": [],
   "source": []
  }
 ],
 "metadata": {
  "kernelspec": {
   "display_name": "Python 3",
   "language": "python",
   "name": "python3"
  },
  "language_info": {
   "codemirror_mode": {
    "name": "ipython",
    "version": 3
   },
   "file_extension": ".py",
   "mimetype": "text/x-python",
   "name": "python",
   "nbconvert_exporter": "python",
   "pygments_lexer": "ipython3",
   "version": "3.8.8"
  }
 },
 "nbformat": 4,
 "nbformat_minor": 5
}
