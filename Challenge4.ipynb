{
 "cells": [
  {
   "cell_type": "code",
   "execution_count": 1,
   "id": "90f0f62d-6399-42b2-a867-55cd434fa380",
   "metadata": {},
   "outputs": [],
   "source": [
    "import pandas as pd\n",
    "import numpy as np\n",
    "import re\n",
    "\n",
    "# negative altitudes\n",
    "# regular expressions for numbers (x.0 !!)\n",
    "\n",
    "#np.where()"
   ]
  },
  {
   "cell_type": "code",
   "execution_count": 596,
   "id": "5d016262-7ea2-4590-b2a1-dc907660e0ec",
   "metadata": {},
   "outputs": [],
   "source": [
    "random_numbers=pd.read_csv('data4.txt',header=None,nrows=1)\n",
    "bingo_tables=pd.read_csv('data4.txt',header=None,delimiter='\\s+',skiprows=1)"
   ]
  },
  {
   "cell_type": "code",
   "execution_count": 597,
   "id": "c67772b9-da1b-43c4-a90d-f6d696cde7f4",
   "metadata": {},
   "outputs": [
    {
     "data": {
      "text/plain": [
       "((1, 100), (500, 5))"
      ]
     },
     "execution_count": 597,
     "metadata": {},
     "output_type": "execute_result"
    }
   ],
   "source": [
    "random_numbers.shape,bingo_tables.shape"
   ]
  },
  {
   "cell_type": "code",
   "execution_count": 598,
   "id": "4fab91f8-0b34-4f2b-ad63-df64be1e13b2",
   "metadata": {},
   "outputs": [],
   "source": [
    "bingo_tables=np.array(bingo_tables)\n",
    "bingo_tables=bingo_tables.reshape(100,5,5)\n",
    "bingo_tables_long=np.ndarray.flatten(bingo_tables)"
   ]
  },
  {
   "cell_type": "code",
   "execution_count": 599,
   "id": "254ccc46-770f-4794-bfa5-7d2655db087a",
   "metadata": {},
   "outputs": [],
   "source": [
    "random_numbers=np.array(random_numbers)\n",
    "random_numbers=random_numbers.reshape(100)\n",
    "random_numbers=pd.Series(random_numbers)"
   ]
  },
  {
   "cell_type": "code",
   "execution_count": 377,
   "id": "7dc750a9-7fc1-4dd3-a3cd-9d5c432dd57e",
   "metadata": {},
   "outputs": [
    {
     "data": {
      "text/plain": [
       "array([3, 7])"
      ]
     },
     "execution_count": 377,
     "metadata": {},
     "output_type": "execute_result"
    }
   ],
   "source": [
    "np.sum([[1,2],[3,4]],axis=1)"
   ]
  },
  {
   "cell_type": "code",
   "execution_count": 401,
   "id": "db298aff-aa4b-4e56-ad9d-18cf29df29af",
   "metadata": {},
   "outputs": [],
   "source": [
    "test=[[1,2,,4,5],[5,6,7,8,9]]"
   ]
  },
  {
   "cell_type": "code",
   "execution_count": 521,
   "id": "b824f348-56bb-4a53-9e14-0f2debd711ff",
   "metadata": {},
   "outputs": [
    {
     "data": {
      "text/plain": [
       "90"
      ]
     },
     "execution_count": 521,
     "metadata": {},
     "output_type": "execute_result"
    }
   ],
   "source": []
  },
  {
   "cell_type": "code",
   "execution_count": null,
   "id": "7392c176-33c5-4429-b32b-04b3b48f45ed",
   "metadata": {},
   "outputs": [],
   "source": []
  },
  {
   "cell_type": "code",
   "execution_count": 600,
   "id": "3eb91ada-e831-4170-8737-960545ee0e4c",
   "metadata": {},
   "outputs": [
    {
     "name": "stdout",
     "output_type": "stream",
     "text": [
      "result for first winner: 35711\n"
     ]
    }
   ],
   "source": [
    "bingo_tables=np.array(bingo_tables)\n",
    "bingo_tables=bingo_tables.reshape(100,5,5)\n",
    "bingo_tables_long=np.ndarray.flatten(bingo_tables)\n",
    "\n",
    "tensor=np.array([np.zeros(5*5*100)])\n",
    "record_tensor=tensor.reshape(100,5,5)\n",
    "record_tensor_long=np.ndarray.flatten(record_tensor)\n",
    "stop=[]\n",
    "\n",
    "for draw in random_numbers:\n",
    "    for j in range(0,2500):\n",
    "            if draw == bingo_tables_long[j]:\n",
    "                record_tensor_long[j]=1\n",
    "    for k in range(0,100):\n",
    "        if 5 in np.sum(record_tensor_long.reshape(100,5,5)[k],axis=1) or 5 in np.sum(record_tensor_long.reshape(100,5,5)[k],axis=0):\n",
    "            #print('tensor:',k,'draw:',draw)\n",
    "            #print(record_tensor_long.reshape(100,5,5)[k])\n",
    "            winner_record=record_tensor_long.reshape(100,5,5)[k]\n",
    "            winner_table=bingo_tables_long.reshape(100,5,5)[k]\n",
    "            stop=1       \n",
    "    if stop==1:\n",
    "        for j in range(0,5):\n",
    "            for k in range(0,5):\n",
    "                if winner_record[k,j]==1:\n",
    "                    winner_table[k,j]=0\n",
    "        print('result for first winner:',sum(winner_table).sum()*draw)\n",
    "        break\n",
    "      "
   ]
  },
  {
   "cell_type": "code",
   "execution_count": 586,
   "id": "33de8d01-9a70-4d46-82fd-98b01453de58",
   "metadata": {},
   "outputs": [
    {
     "name": "stdout",
     "output_type": "stream",
     "text": [
      "result for first winner: 35711\n",
      "result for first winner: 45640\n",
      "result for first winner: 35045\n",
      "result for first winner: 72535\n",
      "result for first winner: 77425\n",
      "result for first winner: 85360\n",
      "result for first winner: 53680\n",
      "result for first winner: 67760\n",
      "result for first winner: 47488\n",
      "result for first winner: 27047\n",
      "result for first winner: 21199\n",
      "result for first winner: 7310\n",
      "result for first winner: 51508\n",
      "result for first winner: 16952\n",
      "result for first winner: 33252\n",
      "result for first winner: 28992\n",
      "result for first winner: 2400\n",
      "result for first winner: 41280\n",
      "result for first winner: 32021\n",
      "result for first winner: 26158\n",
      "result for first winner: 35178\n",
      "result for first winner: 40590\n",
      "result for first winner: 25707\n",
      "result for first winner: 36982\n",
      "result for first winner: 20295\n",
      "result for first winner: 31570\n",
      "result for first winner: 4961\n",
      "result for first winner: 6314\n",
      "result for first winner: 5863\n",
      "result for first winner: 22550\n",
      "result for first winner: 30668\n",
      "result for first winner: 42394\n",
      "result for first winner: 44649\n",
      "result for first winner: 9922\n",
      "result for first winner: 21197\n",
      "result for first winner: 5412\n",
      "result for first winner: 451\n",
      "result for first winner: 33374\n",
      "result for first winner: 8118\n",
      "result for first winner: 18630\n",
      "result for first winner: 1620\n",
      "result for first winner: 2430\n",
      "result for first winner: 35640\n",
      "result for first winner: 18954\n",
      "result for first winner: 29133\n",
      "result for first winner: 33696\n",
      "result for first winner: 22113\n",
      "result for first winner: 23166\n",
      "result for first winner: 12285\n",
      "result for first winner: 9477\n",
      "result for first winner: 12636\n",
      "result for first winner: 25272\n",
      "result for first winner: 12978\n",
      "result for first winner: 20678\n",
      "result for first winner: 0\n",
      "result for first winner: 10972\n",
      "result for first winner: 8440\n",
      "result for first winner: 10920\n",
      "result for first winner: 3960\n",
      "result for first winner: 2520\n",
      "result for first winner: 2924\n",
      "result for first winner: 7310\n",
      "result for first winner: 258\n",
      "result for first winner: 3268\n",
      "result for first winner: 1705\n",
      "result for first winner: 5060\n",
      "result for first winner: 414\n",
      "result for first winner: 4002\n",
      "result for first winner: 874\n",
      "result for first winner: 3358\n",
      "result for first winner: 480\n",
      "result for first winner: 0\n",
      "result for first winner: 0\n",
      "result for first winner: 0\n"
     ]
    }
   ],
   "source": [
    "bingo_tables=np.array(bingo_tables)\n",
    "bingo_tables=bingo_tables.reshape(100,5,5)\n",
    "bingo_tables_long=np.ndarray.flatten(bingo_tables)\n",
    "\n",
    "tensor=np.array([np.zeros(5*5*100)])\n",
    "record_tensor=tensor.reshape(100,5,5)\n",
    "record_tensor_long=np.ndarray.flatten(record_tensor)\n",
    "stop=[]\n",
    "order_of_winners=np.array(np.zeros(100))\n",
    "score_list=[]\n",
    "\n",
    "counter=0\n",
    "\n",
    "for p,draw in enumerate(random_numbers):\n",
    "    for j in range(0,2500-counter*25):\n",
    "            if draw == bingo_tables_long[j]:\n",
    "                record_tensor_long[j]=1\n",
    "    for k in range(0,100):\n",
    "        if 5 in np.sum(record_tensor_long.reshape(100-counter,5,5)[k],axis=1) or 5 in np.sum(record_tensor_long.reshape(100-counter,5,5)[k],axis=0):\n",
    "            #print('tensor:',k,'draw:',draw)\n",
    "            #print(record_tensor_long.reshape(100,5,5)[k])\n",
    "            winner_record=record_tensor_long.reshape(100,5,5)[k]\n",
    "            winner_table=bingo_tables_long.reshape(100,5,5)[k]\n",
    "            counter=1\n",
    "            bingo_tables=np.delete(bingo_tables,k,0)\n",
    "            record_tenser=np.delete(record_tenser,k,0)\n",
    "            record_tensor_long=np.ndarray.flatten(record_tensor)\n",
    "            \n",
    "            order_of_winners[k]=1\n",
    "            stop=1       \n",
    "   \n",
    "    if stop==1:\n",
    "        for j in range(0,5):\n",
    "            for k in range(0,5):\n",
    "                if winner_record[k,j]==1: \n",
    "                    winner_table[k,j]=0\n",
    "        score=sum(winner_table).sum()*draw \n",
    "        score_list.append(score)\n",
    "        stop=0\n",
    "        \n",
    "        print('result for first winner:',score)\n",
    "\n",
    "      "
   ]
  },
  {
   "cell_type": "code",
   "execution_count": 572,
   "id": "3ad9dedb-8d39-492b-abbc-3db78d29b3f1",
   "metadata": {},
   "outputs": [],
   "source": [
    "order_of_winners=np.array(np.zeros(100))"
   ]
  },
  {
   "cell_type": "code",
   "execution_count": null,
   "id": "f192e668-77eb-428b-a597-d0cc2f69c151",
   "metadata": {},
   "outputs": [],
   "source": [
    "score"
   ]
  },
  {
   "cell_type": "code",
   "execution_count": 594,
   "id": "051a8975-daec-4ba4-bd8d-96ce2e140efb",
   "metadata": {},
   "outputs": [
    {
     "data": {
      "text/plain": [
       "array([[[33, 57, 76, 73, 26],\n",
       "        [ 6, 71, 35, 39, 85],\n",
       "        [54, 77, 36, 14, 87],\n",
       "        [66, 79,  8, 64, 32],\n",
       "        [ 2, 84, 98, 34, 13]],\n",
       "\n",
       "       [[43, 51, 16, 95, 59],\n",
       "        [22, 53,  6, 49, 94],\n",
       "        [32, 72, 46, 23, 37],\n",
       "        [40, 85, 39, 45, 74],\n",
       "        [87, 62, 69, 98,  0]],\n",
       "\n",
       "       [[84,  5, 73, 32, 23],\n",
       "        [40, 64, 98, 27,  8],\n",
       "        [80, 71,  1, 31, 69],\n",
       "        [46, 42,  7,  4, 70],\n",
       "        [88, 90, 48, 33, 29]],\n",
       "\n",
       "       ...,\n",
       "\n",
       "       [[15, 53, 20, 35, 14],\n",
       "        [24, 25, 63, 85, 79],\n",
       "        [65, 96,  2, 60, 50],\n",
       "        [72, 10, 77, 12, 92],\n",
       "        [32, 94, 95, 16, 71]],\n",
       "\n",
       "       [[78, 52, 55, 20, 40],\n",
       "        [33, 66, 81, 48, 18],\n",
       "        [32, 69, 13,  5, 84],\n",
       "        [23, 67, 68, 61, 34],\n",
       "        [11, 63,  4, 93, 65]],\n",
       "\n",
       "       [[51, 89, 37, 46, 29],\n",
       "        [69, 56, 71,  9, 91],\n",
       "        [28, 54,  7, 16, 31],\n",
       "        [67,  5, 97, 42, 43],\n",
       "        [98, 32, 65, 34, 30]]])"
      ]
     },
     "execution_count": 594,
     "metadata": {},
     "output_type": "execute_result"
    }
   ],
   "source": [
    "bingo_tables=np.delete(bingo_tables,0,0)\n",
    "bingo_tables"
   ]
  },
  {
   "cell_type": "code",
   "execution_count": 592,
   "id": "605f38de-f6d5-47d5-8746-82316c47e6bf",
   "metadata": {},
   "outputs": [
    {
     "data": {
      "text/plain": [
       "array([[20, 61, 63, 82, 53],\n",
       "       [86, 11, 55, 10, 85],\n",
       "       [ 5, 37, 65, 21, 54],\n",
       "       [89, 75, 59, 73, 48],\n",
       "       [41, 50, 29, 71, 93]])"
      ]
     },
     "execution_count": 592,
     "metadata": {},
     "output_type": "execute_result"
    }
   ],
   "source": [
    "bingo_tables[49]"
   ]
  },
  {
   "cell_type": "code",
   "execution_count": 376,
   "id": "62ee9520-f4a7-41d4-a434-b0663b8f3ab1",
   "metadata": {},
   "outputs": [
    {
     "data": {
      "text/plain": [
       "86"
      ]
     },
     "execution_count": 376,
     "metadata": {},
     "output_type": "execute_result"
    }
   ],
   "source": [
    "bingo_tables[51][1,0]"
   ]
  },
  {
   "cell_type": "code",
   "execution_count": 477,
   "id": "4375a502-724d-4f7a-9605-c87bbfc2b150",
   "metadata": {},
   "outputs": [
    {
     "data": {
      "text/plain": [
       "1"
      ]
     },
     "execution_count": 477,
     "metadata": {},
     "output_type": "execute_result"
    }
   ],
   "source": [
    "result=np.array([[1,0,1,0,0],[1,1,0,0,0],[1,1,1,1,1],[0,1,0,0,0],[0,0,0,0,0]])\n",
    "result[1,1]"
   ]
  },
  {
   "cell_type": "code",
   "execution_count": 497,
   "id": "f2e455cb-6ddb-473e-ac89-ae951a262352",
   "metadata": {},
   "outputs": [],
   "source": []
  },
  {
   "cell_type": "code",
   "execution_count": 549,
   "id": "4873d624-4180-423e-9bd9-e71159d9e1ed",
   "metadata": {},
   "outputs": [
    {
     "data": {
      "text/plain": [
       "50553"
      ]
     },
     "execution_count": 549,
     "metadata": {},
     "output_type": "execute_result"
    }
   ],
   "source": [
    "sum(bingo_tables[49]).sum()*41"
   ]
  },
  {
   "cell_type": "code",
   "execution_count": null,
   "id": "4e5146fc-5238-4703-b341-9c4b94f3b961",
   "metadata": {},
   "outputs": [],
   "source": []
  },
  {
   "cell_type": "code",
   "execution_count": null,
   "id": "214bd79d-b724-4746-bb81-4ffae64dcc2b",
   "metadata": {},
   "outputs": [],
   "source": []
  },
  {
   "cell_type": "code",
   "execution_count": null,
   "id": "4058f3a4-a051-477d-94fa-8ee598d83e77",
   "metadata": {},
   "outputs": [],
   "source": []
  },
  {
   "cell_type": "code",
   "execution_count": null,
   "id": "de3ba3fe-3c24-436b-aeff-3b905fd256c3",
   "metadata": {},
   "outputs": [],
   "source": []
  },
  {
   "cell_type": "code",
   "execution_count": null,
   "id": "26400173-2aef-4fe8-899f-e0c0e9dbf016",
   "metadata": {},
   "outputs": [],
   "source": []
  },
  {
   "cell_type": "code",
   "execution_count": null,
   "id": "5f885354-50c9-44f7-b98c-df15f391e00e",
   "metadata": {},
   "outputs": [],
   "source": []
  },
  {
   "cell_type": "code",
   "execution_count": null,
   "id": "a54f8732-3225-4a48-9893-ab2566419f9f",
   "metadata": {},
   "outputs": [],
   "source": []
  }
 ],
 "metadata": {
  "kernelspec": {
   "display_name": "Python 3",
   "language": "python",
   "name": "python3"
  },
  "language_info": {
   "codemirror_mode": {
    "name": "ipython",
    "version": 3
   },
   "file_extension": ".py",
   "mimetype": "text/x-python",
   "name": "python",
   "nbconvert_exporter": "python",
   "pygments_lexer": "ipython3",
   "version": "3.8.8"
  }
 },
 "nbformat": 4,
 "nbformat_minor": 5
}
