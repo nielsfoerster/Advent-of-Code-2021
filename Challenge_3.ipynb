{
 "cells": [
  {
   "cell_type": "code",
   "execution_count": 1,
   "id": "20751385-710a-4dc1-a541-e134dd694b8b",
   "metadata": {},
   "outputs": [],
   "source": [
    "import pandas as pd\n",
    "import numpy as np\n",
    "import re\n",
    "\n",
    "# negative altitudes\n",
    "# regular expressions for numbers (x.0 !!)\n"
   ]
  },
  {
   "cell_type": "code",
   "execution_count": 2,
   "id": "cbc61e9e-a2ac-4d40-b464-86b0f4eb33a8",
   "metadata": {},
   "outputs": [],
   "source": [
    "data=pd.read_csv('data3.txt',names=['value'],dtype=str)"
   ]
  },
  {
   "cell_type": "code",
   "execution_count": null,
   "id": "812bd2a0-af64-4d10-9529-496c91f10020",
   "metadata": {},
   "outputs": [],
   "source": []
  },
  {
   "cell_type": "code",
   "execution_count": 3,
   "id": "237add30-54ba-44f7-a98f-3f67dfff817c",
   "metadata": {},
   "outputs": [],
   "source": [
    "bin_list=[]\n",
    "for bin in data['value']:\n",
    "    x = [int(a) for a in str(bin)]\n",
    "    bin_list.append(x)"
   ]
  },
  {
   "cell_type": "code",
   "execution_count": 4,
   "id": "cdf4c30d-0097-450e-8b59-2b19456d3c67",
   "metadata": {},
   "outputs": [],
   "source": [
    "df=pd.DataFrame(bin_list)"
   ]
  },
  {
   "cell_type": "code",
   "execution_count": 5,
   "id": "7dd1da65-5980-4158-9834-1a8bb63e5f89",
   "metadata": {},
   "outputs": [],
   "source": [
    "mode=df.mode()"
   ]
  },
  {
   "cell_type": "code",
   "execution_count": 6,
   "id": "82f35bd0-2833-4a5e-af1d-e20b0f4f6767",
   "metadata": {},
   "outputs": [],
   "source": [
    "mode=str(mode)"
   ]
  },
  {
   "cell_type": "code",
   "execution_count": 7,
   "id": "7f559ac4-32a6-46f3-bcd8-79c9f829c44e",
   "metadata": {},
   "outputs": [],
   "source": [
    "mode_bin=mode.split('\\n0 ')"
   ]
  },
  {
   "cell_type": "code",
   "execution_count": 8,
   "id": "aeda3db4-d36e-4e88-b3f1-5b0598b0e06e",
   "metadata": {},
   "outputs": [],
   "source": [
    "mode_bin=mode_bin[1].replace(' ','')"
   ]
  },
  {
   "cell_type": "code",
   "execution_count": 9,
   "id": "9b4663c0-4a79-467c-bcc3-7ab79e8ad95c",
   "metadata": {},
   "outputs": [
    {
     "name": "stdout",
     "output_type": "stream",
     "text": [
      "3527\n"
     ]
    }
   ],
   "source": [
    "print(int(mode_bin,2)) "
   ]
  },
  {
   "cell_type": "code",
   "execution_count": 10,
   "id": "b44aaba9-f3c1-4fac-ad30-4c943678ae90",
   "metadata": {},
   "outputs": [],
   "source": [
    "# reverse 0 to 1 and vice versa\n",
    "non_mode_bin=mode_bin.replace('0','a').replace('1','0').replace('a','1')"
   ]
  },
  {
   "cell_type": "code",
   "execution_count": 11,
   "id": "e15252d2-36ed-40be-95d8-b477791b48e9",
   "metadata": {},
   "outputs": [
    {
     "data": {
      "text/plain": [
       "'001000111000'"
      ]
     },
     "execution_count": 11,
     "metadata": {},
     "output_type": "execute_result"
    }
   ],
   "source": [
    "non_mode_bin"
   ]
  },
  {
   "cell_type": "code",
   "execution_count": 12,
   "id": "5317485c-255d-4032-ba5c-71cbd693a727",
   "metadata": {},
   "outputs": [
    {
     "name": "stdout",
     "output_type": "stream",
     "text": [
      "568\n"
     ]
    }
   ],
   "source": [
    "print(int(non_mode_bin,2)) "
   ]
  },
  {
   "cell_type": "code",
   "execution_count": 13,
   "id": "980c52e1-9188-4353-8443-0a2b572f085d",
   "metadata": {},
   "outputs": [
    {
     "data": {
      "text/plain": [
       "2003336"
      ]
     },
     "execution_count": 13,
     "metadata": {},
     "output_type": "execute_result"
    }
   ],
   "source": [
    "int(non_mode_bin,2)*int(mode_bin,2)"
   ]
  },
  {
   "cell_type": "code",
   "execution_count": 14,
   "id": "d5761728-6de7-430f-b10f-5e26944015c0",
   "metadata": {},
   "outputs": [],
   "source": [
    "ocr=df.copy()\n",
    "co2=df.copy()"
   ]
  },
  {
   "cell_type": "code",
   "execution_count": 15,
   "id": "5ff94aa2-a19a-4cc2-8e2a-e03206e05c4b",
   "metadata": {},
   "outputs": [],
   "source": [
    "# find co2\n",
    "for i in range(0,12):\n",
    "    if co2.shape[0]==1:\n",
    "        break\n",
    "    if len(set(co2[i]))==1:\n",
    "        continue\n",
    "    if co2[i].mode().shape[0]==2:\n",
    "        co2=co2[co2[i]==0]\n",
    "    elif co2[i].mode()[0]==1:\n",
    "        co2=co2[co2[i]==0]\n",
    "    elif co2[i].mode()[0]==0:\n",
    "        co2=co2[co2[i]==1]"
   ]
  },
  {
   "cell_type": "code",
   "execution_count": 16,
   "id": "5117117e-6b03-4822-b218-445e359c2af2",
   "metadata": {},
   "outputs": [],
   "source": [
    "# find ocr\n",
    "for i in range(0,12):\n",
    "    if ocr.shape[0]==1:\n",
    "        break\n",
    "    if len(set(ocr[i]))==1:\n",
    "        continue\n",
    "    if ocr[i].mode().shape[0]==2:\n",
    "        ocr=ocr[ocr[i]==1]\n",
    "    elif ocr[i].mode()[0]==1:\n",
    "        ocr=ocr[ocr[i]==1]\n",
    "    elif ocr[i].mode()[0]==0:\n",
    "        ocr=ocr[ocr[i]==0]"
   ]
  },
  {
   "cell_type": "code",
   "execution_count": 17,
   "id": "2b65db4a-8399-4cc7-8112-80a039c5555c",
   "metadata": {},
   "outputs": [],
   "source": [
    "co2=str(co2)\n",
    "co2=co2.split('\\n')[1].replace(' ','')"
   ]
  },
  {
   "cell_type": "code",
   "execution_count": 18,
   "id": "968611b0-0f9e-4909-adcf-8e8571eea626",
   "metadata": {},
   "outputs": [],
   "source": [
    "ocr=str(ocr)\n",
    "ocr=ocr.split('\\n')[1].replace(' ','')"
   ]
  },
  {
   "cell_type": "code",
   "execution_count": 19,
   "id": "95c0c0d0-a66c-4978-aa75-c3e21cd3172d",
   "metadata": {},
   "outputs": [
    {
     "data": {
      "text/plain": [
       "1877139"
      ]
     },
     "execution_count": 19,
     "metadata": {},
     "output_type": "execute_result"
    }
   ],
   "source": [
    "int(co2[-12::],2)*int(ocr[-12::],2)"
   ]
  },
  {
   "cell_type": "code",
   "execution_count": null,
   "id": "52985c97-c7cc-4c0f-bfe9-f3901919265a",
   "metadata": {},
   "outputs": [],
   "source": []
  },
  {
   "cell_type": "code",
   "execution_count": null,
   "id": "32f71524-455a-49f6-a40f-a685332ac6fc",
   "metadata": {},
   "outputs": [],
   "source": []
  }
 ],
 "metadata": {
  "kernelspec": {
   "display_name": "Python 3",
   "language": "python",
   "name": "python3"
  },
  "language_info": {
   "codemirror_mode": {
    "name": "ipython",
    "version": 3
   },
   "file_extension": ".py",
   "mimetype": "text/x-python",
   "name": "python",
   "nbconvert_exporter": "python",
   "pygments_lexer": "ipython3",
   "version": "3.8.8"
  }
 },
 "nbformat": 4,
 "nbformat_minor": 5
}
