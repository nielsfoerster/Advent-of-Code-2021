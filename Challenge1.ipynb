{
 "cells": [
  {
   "cell_type": "code",
   "execution_count": 17,
   "id": "4832a101-2c9b-49f1-afd9-da45dd1f13ec",
   "metadata": {},
   "outputs": [],
   "source": [
    "import requests\n",
    "import pandas as pd\n",
    "import numpy as np"
   ]
  },
  {
   "cell_type": "code",
   "execution_count": null,
   "id": "0a8f525b-4d84-41e8-9d47-20c3394d9422",
   "metadata": {},
   "outputs": [],
   "source": [
    "url2='https://adventofcode.com/2021/day/1/input'\n",
    "url1='https://adventofcode.com/2021/day/1'\n",
    "\n",
    "param_dict = {'param1':'nielsfoerster', 'param2':'Nf005324'}\n",
    "\n",
    "headers = {'User-Agent': 'Mozilla/5.0 (Macintosh; Intel Mac OS X 10_10_1) AppleWebKit/537.36 (KHTML, like Gecko) Chrome/39.0.2171.95 Safari/537.36'}\n",
    "\n",
    "r = requests.get(url1,params=param_dict,headers=headers)\n",
    "\n",
    "#print(r.status_code)\n",
    "#print(r.text[:184])"
   ]
  },
  {
   "cell_type": "code",
   "execution_count": 47,
   "id": "3bb343ad-3042-4cf8-b215-5cbd4a20aa1d",
   "metadata": {},
   "outputs": [],
   "source": [
    "data=pd.read_csv('data1.txt',names=['value'])"
   ]
  },
  {
   "cell_type": "code",
   "execution_count": 51,
   "id": "1d5b7313-63a7-4238-80f3-253858135aca",
   "metadata": {},
   "outputs": [],
   "source": [
    "data['diff']=data.diff()"
   ]
  },
  {
   "cell_type": "code",
   "execution_count": 63,
   "id": "cbe97057-0f1b-4040-b782-70182ce4ee11",
   "metadata": {},
   "outputs": [],
   "source": [
    "check=[]\n",
    "for value in data['diff']:\n",
    "    if value >0:\n",
    "        check.append(1)\n",
    "    else:\n",
    "        check.append(0)"
   ]
  },
  {
   "cell_type": "code",
   "execution_count": 64,
   "id": "4cda98ff-07bb-4fea-8ba9-e3bd9a41139f",
   "metadata": {},
   "outputs": [
    {
     "data": {
      "text/plain": [
       "1624"
      ]
     },
     "execution_count": 64,
     "metadata": {},
     "output_type": "execute_result"
    }
   ],
   "source": [
    "sum(check)"
   ]
  },
  {
   "cell_type": "code",
   "execution_count": 66,
   "id": "303d08f6-3b3a-4f8e-851b-37723ee13cae",
   "metadata": {},
   "outputs": [],
   "source": [
    "data['rolling']=data['value'].rolling(3).sum()"
   ]
  },
  {
   "cell_type": "code",
   "execution_count": 82,
   "id": "8a2fdbe9-e099-4b1b-98bb-2567dd75c7a9",
   "metadata": {},
   "outputs": [],
   "source": [
    "data['diff2']=data['rolling'].diff()"
   ]
  },
  {
   "cell_type": "code",
   "execution_count": 83,
   "id": "afbd9c8c-b639-4207-b271-08965099feca",
   "metadata": {},
   "outputs": [],
   "source": [
    "check=[]\n",
    "for value in data['diff2']:\n",
    "    if value >0:\n",
    "        check.append(1)\n",
    "    else:\n",
    "        check.append(0)"
   ]
  },
  {
   "cell_type": "code",
   "execution_count": 84,
   "id": "cb3326b9-e3ab-4ac3-8232-2f94fab1fe04",
   "metadata": {},
   "outputs": [
    {
     "data": {
      "text/plain": [
       "1653"
      ]
     },
     "execution_count": 84,
     "metadata": {},
     "output_type": "execute_result"
    }
   ],
   "source": [
    "sum(check)"
   ]
  },
  {
   "cell_type": "code",
   "execution_count": null,
   "id": "14a673dd-32d7-4511-b534-26aba5306665",
   "metadata": {},
   "outputs": [],
   "source": []
  }
 ],
 "metadata": {
  "kernelspec": {
   "display_name": "Python 3",
   "language": "python",
   "name": "python3"
  },
  "language_info": {
   "codemirror_mode": {
    "name": "ipython",
    "version": 3
   },
   "file_extension": ".py",
   "mimetype": "text/x-python",
   "name": "python",
   "nbconvert_exporter": "python",
   "pygments_lexer": "ipython3",
   "version": "3.8.8"
  }
 },
 "nbformat": 4,
 "nbformat_minor": 5
}
